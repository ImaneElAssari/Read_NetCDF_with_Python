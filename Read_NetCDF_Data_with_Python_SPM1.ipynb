{
  "nbformat": 4,
  "nbformat_minor": 0,
  "metadata": {
    "colab": {
      "name": "Read NetCDF Data with Python - SPM1.ipynb",
      "provenance": [],
      "authorship_tag": "ABX9TyOfLNQfKj7DFRfSRUJ87L2J",
      "include_colab_link": true
    },
    "kernelspec": {
      "name": "python3",
      "display_name": "Python 3"
    },
    "language_info": {
      "name": "python"
    }
  },
  "cells": [
    {
      "cell_type": "markdown",
      "metadata": {
        "id": "view-in-github",
        "colab_type": "text"
      },
      "source": [
        "<a href=\"https://colab.research.google.com/github/ImaneElAssari/Read_NetCDF_with_Python/blob/master/Read_NetCDF_Data_with_Python_SPM1.ipynb\" target=\"_parent\"><img src=\"https://colab.research.google.com/assets/colab-badge.svg\" alt=\"Open In Colab\"/></a>"
      ]
    },
    {
      "cell_type": "markdown",
      "source": [
        "**Read NetCDF Data with Python**"
      ],
      "metadata": {
        "id": "l8RerxzCAFdU"
      }
    },
    {
      "cell_type": "markdown",
      "source": [
        "NetCDF (Network common data form) files are commonly used for geographic time-series data.Their variables are often measured multiple times per day over large areas.\n",
        "They represent a great way to document geographic data because of the built in documentation and metadata.\n"
      ],
      "metadata": {
        "id": "rAuR617n8X7f"
      }
    },
    {
      "cell_type": "code",
      "execution_count": 1,
      "metadata": {
        "id": "iw_fOeXWHWhZ"
      },
      "outputs": [],
      "source": [
        "import netCDF4 as nc"
      ]
    },
    {
      "cell_type": "markdown",
      "source": [
        "A NetCDF file has three basic parts: metadata, dimensions and variables. Variables contain both metadata and data. NetCDF4 allows us to access the metadata and data associated with a NetCDF file."
      ],
      "metadata": {
        "id": "bvvb7D4n__Ru"
      }
    },
    {
      "cell_type": "code",
      "source": [
        "ds = nc.Dataset('/content/ANTARES_2014.nc')"
      ],
      "metadata": {
        "id": "2uhAP4L2aE_7"
      },
      "execution_count": 2,
      "outputs": []
    },
    {
      "cell_type": "markdown",
      "source": [
        "# Metadata Access"
      ],
      "metadata": {
        "id": "r8FCxb-JBfkZ"
      }
    },
    {
      "cell_type": "code",
      "source": [
        "print(ds)\n"
      ],
      "metadata": {
        "colab": {
          "base_uri": "https://localhost:8080/"
        },
        "id": "6rc9nSK8n4f1",
        "outputId": "4128b613-948d-4b26-8aca-8f6ade3ddf21"
      },
      "execution_count": 3,
      "outputs": [
        {
          "output_type": "stream",
          "name": "stdout",
          "text": [
            "<class 'netCDF4._netCDF4.Dataset'>\n",
            "root group (NETCDF3_CLASSIC data model, file format NETCDF3):\n",
            "    site_code: ANTARES\n",
            "    platform_code: ANTARES\n",
            "    data_mode: R\n",
            "    title: Observations from ANTARES Mooring\n",
            "    summary: Temperature, conductivity, current and pressure data collected from MOOSE moorings\n",
            "    naming_authority: OceanSITES\n",
            "    wmo_platform_code: 6801000\n",
            "    source: \n",
            "    principal_investigator: Dominique Lefevre and Christian Tamburini (LMGEM Marseille)\n",
            "    principal_investigator_email: dominique.lefevre@mio.osupytheas.fr\n",
            "    principal_investigator_url: http://www.mio.univ-amu.fr/spip.php?page=pageperso&nom=LEFEVRE&prenom=Dominique\n",
            "    institution: \n",
            "    project: ANTARES; project in progress MOOSE (Mediterranean Ocean Observing System for the Environment)\n",
            "    array: Moose\n",
            "    network: EUROSITES/MOOSE\n",
            "    keywords_vocabulary: SeaDataNet Parameter Discovery Vocabulary\n",
            "    keywords: EARTH SCIENCE >Oceans\n",
            "    comment: These observations were converted from MOOSE mooring text files to this NetCDF file.\n",
            "    size: \n",
            "    parameters: \n",
            "    area: Mediterranean Sea\n",
            "    geospatial_lat_units: degree_north\n",
            "    geospatial_lon_units: degree_east\n",
            "    geospatial_vertical_positive: down\n",
            "    geospatial_vertical_units: meter\n",
            "    time_coverage_duration: P1Y\n",
            "    time_coverage_resolution: PT5M\n",
            "    cdm_data_type: mooring\n",
            "    featureType: timeSeriesProfile\n",
            "    data_type: OceanSITES time-series data\n",
            "    coverage: \n",
            "    events: \n",
            "    format_version: 1.3\n",
            "    Conventions: OceanSITES-1.3\n",
            "    netcdf_version: 3.6\n",
            "    publisher_name: Laurent Coppola\n",
            "    publisher_email: coppola@obs-vlfr.fr\n",
            "    publisher_url: http://www.obs-vlfr.fr/~laurcopp/\n",
            "    references: http://www.insu.cnrs.fr/environnement/atmosphere/moose-mediterranean-ocean-observing-system-on-environment\n",
            "    data_assembly_center: Ifremer\n",
            "    update_interval: P1Y\n",
            "    license: Follows CLIVAR (Climate Varibility and Predictability)  standards, cf. http://www.clivar.org/data/data_policy.php. Data available free of charge. User assumes all risk for use of data. User must display citation in any publication or product using data. User must contact PI prior to any commercial use of data.\n",
            "    citation: These data were collected and made freely available by the author, PI, and collaborators in the frame of national activities (Coriolis)\n",
            "    other_version: \n",
            "    source_data_set: \n",
            "    further_details: \n",
            "    acknowledgement: founding from FixO3 european project\n",
            "    date_created: 2016-12-07T15:23:08Z\n",
            "    date_modified: 2016-12-07T15:23:08Z\n",
            "    processing_level: \n",
            "    QC_indicator: \n",
            "    contributor_name: \n",
            "    contributor_role: \n",
            "    contributor_email: \n",
            "    description: Merge files with span : 60 seconds : ANTARES_2014_CTD.nc \n",
            "    date_update: 2016-12-09T19:05:38Z\n",
            "    history: 2016-12-09T19:05:38Z : Creation\n",
            "    id: ANTARES_2014\n",
            "    geospatial_lat_min: 42.8\n",
            "    geospatial_lat_max: 42.8\n",
            "    geospatial_lon_min: 6.17\n",
            "    geospatial_lon_max: 6.17\n",
            "    geospatial_vertical_min: 2193\n",
            "    geospatial_vertical_max: 2303\n",
            "    time_coverage_start: 2013-10-23T08:10:37Z\n",
            "    time_coverage_end: 2014-09-22T06:40:28Z\n",
            "    dimensions(sizes): TIME(162364), DEPTH(3), LATITUDE(1), LONGITUDE(1), POSITION(1)\n",
            "    variables(dimensions): float64 TIME(TIME), int8 TIME_QC(TIME), float32 LATITUDE(LATITUDE), float32 LONGITUDE(LONGITUDE), int8 POSITION_QC(POSITION), float32 DEPTH(DEPTH), int8 DEPTH_QC(DEPTH), float32 OSAT(TIME, DEPTH), int8 OSAT_QC(TIME, DEPTH), float32 TEMP(TIME, DEPTH), int8 TEMP_QC(TIME, DEPTH), float32 DOX2(TIME, DEPTH), int8 DOX2_QC(TIME, DEPTH), float32 CNDC(TIME, DEPTH), int8 CNDC_QC(TIME, DEPTH), float32 PRES(TIME, DEPTH), int8 PRES_QC(TIME, DEPTH), float32 PSAL(TIME, DEPTH), int8 PSAL_QC(TIME, DEPTH)\n",
            "    groups: \n"
          ]
        }
      ]
    },
    {
      "cell_type": "markdown",
      "source": [
        "Metadata can be accessed as a Python dictionary:"
      ],
      "metadata": {
        "id": "9hEi3ol7DFuS"
      }
    },
    {
      "cell_type": "code",
      "source": [
        "print(ds.__dict__)\n"
      ],
      "metadata": {
        "colab": {
          "base_uri": "https://localhost:8080/"
        },
        "id": "lcDJZ8ms9-8P",
        "outputId": "2562b2b6-e2ea-47f4-ca59-2aaeac1db06b"
      },
      "execution_count": 4,
      "outputs": [
        {
          "output_type": "stream",
          "name": "stdout",
          "text": [
            "{'site_code': 'ANTARES', 'platform_code': 'ANTARES', 'data_mode': 'R', 'title': 'Observations from ANTARES Mooring', 'summary': 'Temperature, conductivity, current and pressure data collected from MOOSE moorings', 'naming_authority': 'OceanSITES', 'wmo_platform_code': '6801000', 'source': '', 'principal_investigator': 'Dominique Lefevre and Christian Tamburini (LMGEM Marseille)', 'principal_investigator_email': 'dominique.lefevre@mio.osupytheas.fr', 'principal_investigator_url': 'http://www.mio.univ-amu.fr/spip.php?page=pageperso&nom=LEFEVRE&prenom=Dominique', 'institution': '', 'project': 'ANTARES; project in progress MOOSE (Mediterranean Ocean Observing System for the Environment)', 'array': 'Moose', 'network': 'EUROSITES/MOOSE', 'keywords_vocabulary': 'SeaDataNet Parameter Discovery Vocabulary', 'keywords': 'EARTH SCIENCE >Oceans', 'comment': 'These observations were converted from MOOSE mooring text files to this NetCDF file.', 'size': '', 'parameters': '', 'area': 'Mediterranean Sea', 'geospatial_lat_units': 'degree_north', 'geospatial_lon_units': 'degree_east', 'geospatial_vertical_positive': 'down', 'geospatial_vertical_units': 'meter', 'time_coverage_duration': 'P1Y', 'time_coverage_resolution': 'PT5M', 'cdm_data_type': 'mooring', 'featureType': 'timeSeriesProfile', 'data_type': 'OceanSITES time-series data', 'coverage': '', 'events': '', 'format_version': '1.3', 'Conventions': 'OceanSITES-1.3', 'netcdf_version': '3.6', 'publisher_name': 'Laurent Coppola', 'publisher_email': 'coppola@obs-vlfr.fr', 'publisher_url': 'http://www.obs-vlfr.fr/~laurcopp/', 'references': 'http://www.insu.cnrs.fr/environnement/atmosphere/moose-mediterranean-ocean-observing-system-on-environment', 'data_assembly_center': 'Ifremer', 'update_interval': 'P1Y', 'license': 'Follows CLIVAR (Climate Varibility and Predictability)  standards, cf. http://www.clivar.org/data/data_policy.php. Data available free of charge. User assumes all risk for use of data. User must display citation in any publication or product using data. User must contact PI prior to any commercial use of data.', 'citation': 'These data were collected and made freely available by the author, PI, and collaborators in the frame of national activities (Coriolis)', 'other_version': '', 'source_data_set': '', 'further_details': '', 'acknowledgement': 'founding from FixO3 european project', 'date_created': '2016-12-07T15:23:08Z', 'date_modified': '2016-12-07T15:23:08Z', 'processing_level': '', 'QC_indicator': '', 'contributor_name': '', 'contributor_role': '', 'contributor_email': '', 'description': 'Merge files with span : 60 seconds : ANTARES_2014_CTD.nc ', 'date_update': '2016-12-09T19:05:38Z', 'history': '2016-12-09T19:05:38Z : Creation', 'id': 'ANTARES_2014', 'geospatial_lat_min': '42.8', 'geospatial_lat_max': '42.8', 'geospatial_lon_min': '6.17', 'geospatial_lon_max': '6.17', 'geospatial_vertical_min': '2193', 'geospatial_vertical_max': '2303', 'time_coverage_start': '2013-10-23T08:10:37Z', 'time_coverage_end': '2014-09-22T06:40:28Z'}\n"
          ]
        }
      ]
    },
    {
      "cell_type": "markdown",
      "source": [
        "Or directly with the metadata key:"
      ],
      "metadata": {
        "id": "J0KlGZiYC7Gt"
      }
    },
    {
      "cell_type": "code",
      "source": [
        "print(ds.__dict__['area'])\n"
      ],
      "metadata": {
        "colab": {
          "base_uri": "https://localhost:8080/"
        },
        "id": "AT-TwQQA_vFv",
        "outputId": "a93977fb-0bb5-45cf-f851-ecc821d06e76"
      },
      "execution_count": 5,
      "outputs": [
        {
          "output_type": "stream",
          "name": "stdout",
          "text": [
            "Mediterranean Sea\n"
          ]
        }
      ]
    },
    {
      "cell_type": "markdown",
      "source": [
        "# Dimensions Access"
      ],
      "metadata": {
        "id": "ELLQxOjGDzu7"
      }
    },
    {
      "cell_type": "markdown",
      "source": [
        "A dimension is stored as a class which contains pertinent informations. We can access them by looping  through all available dimensions"
      ],
      "metadata": {
        "id": "wmKnY89rE-1X"
      }
    },
    {
      "cell_type": "code",
      "source": [
        "for dim in ds.dimensions.values():\n",
        "    print(dim)"
      ],
      "metadata": {
        "colab": {
          "base_uri": "https://localhost:8080/"
        },
        "id": "w7-2SwlyD3mW",
        "outputId": "7592e73b-f0d0-464b-fc36-ff468580bf5b"
      },
      "execution_count": 6,
      "outputs": [
        {
          "output_type": "stream",
          "name": "stdout",
          "text": [
            "<class 'netCDF4._netCDF4.Dimension'> (unlimited): name = 'TIME', size = 162364\n",
            "<class 'netCDF4._netCDF4.Dimension'>: name = 'DEPTH', size = 3\n",
            "<class 'netCDF4._netCDF4.Dimension'>: name = 'LATITUDE', size = 1\n",
            "<class 'netCDF4._netCDF4.Dimension'>: name = 'LONGITUDE', size = 1\n",
            "<class 'netCDF4._netCDF4.Dimension'>: name = 'POSITION', size = 1\n"
          ]
        }
      ]
    },
    {
      "cell_type": "markdown",
      "source": [
        "We can access to an individual dimension using :"
      ],
      "metadata": {
        "id": "Bm2jJR4QEnOr"
      }
    },
    {
      "cell_type": "code",
      "source": [
        "ds.dimensions['DEPTH']"
      ],
      "metadata": {
        "colab": {
          "base_uri": "https://localhost:8080/"
        },
        "id": "_KPooOMuEqMS",
        "outputId": "97700aca-f53e-4fc7-d781-dc0694a18e1a"
      },
      "execution_count": 7,
      "outputs": [
        {
          "output_type": "execute_result",
          "data": {
            "text/plain": [
              "<class 'netCDF4._netCDF4.Dimension'>: name = 'DEPTH', size = 3"
            ]
          },
          "metadata": {},
          "execution_count": 7
        }
      ]
    },
    {
      "cell_type": "markdown",
      "source": [
        "# Variable Access"
      ],
      "metadata": {
        "id": "9wmTfXH2RBHs"
      }
    },
    {
      "cell_type": "markdown",
      "source": [
        "Same as Demensions we can use loops to access our variables"
      ],
      "metadata": {
        "id": "FsvotPQtRhMG"
      }
    },
    {
      "cell_type": "code",
      "source": [
        "for var in ds.variables.values():\n",
        "  print(var)"
      ],
      "metadata": {
        "colab": {
          "base_uri": "https://localhost:8080/"
        },
        "id": "ndQaD2VLQWr0",
        "outputId": "361760bf-54c6-4d4c-aef2-f68e5cd0c5ed"
      },
      "execution_count": 8,
      "outputs": [
        {
          "output_type": "stream",
          "name": "stdout",
          "text": [
            "<class 'netCDF4._netCDF4.Variable'>\n",
            "float64 TIME(TIME)\n",
            "    standard_name: time\n",
            "    long_name: time of measurement\n",
            "    units: days since 1950-01-01T00:00:00Z\n",
            "    valid_min: 0.0\n",
            "    valid_max: 90000.0\n",
            "    axis: T\n",
            "unlimited dimensions: TIME\n",
            "current shape = (162364,)\n",
            "filling on, default _FillValue of 9.969209968386869e+36 used\n",
            "<class 'netCDF4._netCDF4.Variable'>\n",
            "int8 TIME_QC(TIME)\n",
            "    long_name: quality flag\n",
            "    conventions: OceanSITES QC Flags\n",
            "    _FillValue: -128\n",
            "    flag_values: [0 1 2 3 4 5 6 7 8 9]\n",
            "    flag_meanings: no_qc_performed good_data probably_good_data bad_data_that_are_potentially_correctable bad_data value_changed not_used nominal_value interpolated_value missing_value\n",
            "unlimited dimensions: TIME\n",
            "current shape = (162364,)\n",
            "filling on\n",
            "<class 'netCDF4._netCDF4.Variable'>\n",
            "float32 LATITUDE(LATITUDE)\n",
            "    standard_name: latitude\n",
            "    long_name: latitude of measurement\n",
            "    units: degrees_north\n",
            "    valid_min: -90.0\n",
            "    valid_max: 90.0\n",
            "    ancillary_variables: POSITION_QC\n",
            "    axis: Y\n",
            "unlimited dimensions: \n",
            "current shape = (1,)\n",
            "filling on, default _FillValue of 9.969209968386869e+36 used\n",
            "<class 'netCDF4._netCDF4.Variable'>\n",
            "float32 LONGITUDE(LONGITUDE)\n",
            "    standard_name: longitude\n",
            "    long_name: longitude of measurement\n",
            "    units: degrees_east\n",
            "    valid_min: -180.0\n",
            "    valid_max: 180.0\n",
            "    ancillary_variables: POSITION_QC\n",
            "    axis: X\n",
            "unlimited dimensions: \n",
            "current shape = (1,)\n",
            "filling on, default _FillValue of 9.969209968386869e+36 used\n",
            "<class 'netCDF4._netCDF4.Variable'>\n",
            "int8 POSITION_QC(POSITION)\n",
            "    long_name: quality flag\n",
            "    conventions: OceanSITES QC Flags\n",
            "    _FillValue: -128\n",
            "    flag_values: [0 1 2 3 4 5 6 7 8 9]\n",
            "    flag_meanings: no_qc_performed good_data probably_good_data bad_data_that_are_potentially_correctable bad_data value_changed not_used nominal_value interpolated_value missing_value\n",
            "unlimited dimensions: \n",
            "current shape = (1,)\n",
            "filling on\n",
            "<class 'netCDF4._netCDF4.Variable'>\n",
            "float32 DEPTH(DEPTH)\n",
            "    standard_name: depth\n",
            "    long_name: depth of measurement\n",
            "    units: meters\n",
            "    _FillValue: -9999.0\n",
            "    valid_min: 0.0\n",
            "    valid_max: 12000.0\n",
            "    axis: Z\n",
            "    positive: down\n",
            "unlimited dimensions: \n",
            "current shape = (3,)\n",
            "filling on\n",
            "<class 'netCDF4._netCDF4.Variable'>\n",
            "int8 DEPTH_QC(DEPTH)\n",
            "    _FillValue: -128\n",
            "unlimited dimensions: \n",
            "current shape = (3,)\n",
            "filling on\n",
            "<class 'netCDF4._netCDF4.Variable'>\n",
            "float32 OSAT(TIME, DEPTH)\n",
            "    standard_name: fractional_saturation_of_oxygen_in_sea_water\n",
            "    long_name: Oxygen saturation\n",
            "    units: %\n",
            "    _FillValue: 99999.0\n",
            "unlimited dimensions: TIME\n",
            "current shape = (162364, 3)\n",
            "filling on\n",
            "<class 'netCDF4._netCDF4.Variable'>\n",
            "int8 OSAT_QC(TIME, DEPTH)\n",
            "    long_name: quality flag\n",
            "    conventions: OceanSITES QC Flags\n",
            "    _FillValue: -128\n",
            "    flag_values: [0 1 2 3 4 5 6 7 8 9]\n",
            "    flag_meanings: no_qc_performed good_data probably_good_data bad_data_that_are_potentially_correctable bad_data value_changed not_used nominal_value interpolated_value missing_value\n",
            "unlimited dimensions: TIME\n",
            "current shape = (162364, 3)\n",
            "filling on\n",
            "<class 'netCDF4._netCDF4.Variable'>\n",
            "float32 TEMP(TIME, DEPTH)\n",
            "    standard_name: sea_water_temperature\n",
            "    long_name: Sea temperature\n",
            "    units: degree_Celsius\n",
            "    _FillValue: 99999.0\n",
            "    valid_min: -2.0\n",
            "    valid_max: 40.0\n",
            "unlimited dimensions: TIME\n",
            "current shape = (162364, 3)\n",
            "filling on\n",
            "<class 'netCDF4._netCDF4.Variable'>\n",
            "int8 TEMP_QC(TIME, DEPTH)\n",
            "    long_name: quality flag\n",
            "    conventions: OceanSITES QC Flags\n",
            "    _FillValue: -128\n",
            "    flag_values: [0 1 2 3 4 5 6 7 8 9]\n",
            "    flag_meanings: no_qc_performed good_data probably_good_data bad_data_that_are_potentially_correctable bad_data value_changed not_used nominal_value interpolated_value missing_value\n",
            "unlimited dimensions: TIME\n",
            "current shape = (162364, 3)\n",
            "filling on\n",
            "<class 'netCDF4._netCDF4.Variable'>\n",
            "float32 DOX2(TIME, DEPTH)\n",
            "    standard_name: moles_of_oxygen_per_unit_mass_in_sea_water\n",
            "    long_name: Dissolved oxygen\n",
            "    units: micromole/kg\n",
            "    _FillValue: 99999.0\n",
            "    valid_min: 0.0\n",
            "    valid_max: 650.0\n",
            "unlimited dimensions: TIME\n",
            "current shape = (162364, 3)\n",
            "filling on\n",
            "<class 'netCDF4._netCDF4.Variable'>\n",
            "int8 DOX2_QC(TIME, DEPTH)\n",
            "    long_name: quality flag\n",
            "    conventions: OceanSITES QC Flags\n",
            "    _FillValue: -128\n",
            "    flag_values: [0 1 2 3 4 5 6 7 8 9]\n",
            "    flag_meanings: no_qc_performed good_data probably_good_data bad_data_that_are_potentially_correctable bad_data value_changed not_used nominal_value interpolated_value missing_value\n",
            "unlimited dimensions: TIME\n",
            "current shape = (162364, 3)\n",
            "filling on\n",
            "<class 'netCDF4._netCDF4.Variable'>\n",
            "float32 CNDC(TIME, DEPTH)\n",
            "    standard_name: sea_water_electrical_conductivity\n",
            "    long_name: Electrical conductivity\n",
            "    units: S/m\n",
            "    _FillValue: 99999.0\n",
            "    valid_min: 0.0\n",
            "    valid_max: 8.5\n",
            "unlimited dimensions: TIME\n",
            "current shape = (162364, 3)\n",
            "filling on\n",
            "<class 'netCDF4._netCDF4.Variable'>\n",
            "int8 CNDC_QC(TIME, DEPTH)\n",
            "    long_name: quality flag\n",
            "    conventions: OceanSITES QC Flags\n",
            "    _FillValue: -128\n",
            "    flag_values: [0 1 2 3 4 5 6 7 8 9]\n",
            "    flag_meanings: no_qc_performed good_data probably_good_data bad_data_that_are_potentially_correctable bad_data value_changed not_used nominal_value interpolated_value missing_value\n",
            "unlimited dimensions: TIME\n",
            "current shape = (162364, 3)\n",
            "filling on\n",
            "<class 'netCDF4._netCDF4.Variable'>\n",
            "float32 PRES(TIME, DEPTH)\n",
            "    standard_name: sea_water_pressure\n",
            "    long_name: Sea pressure\n",
            "    units: decibar\n",
            "    _FillValue: 99999.0\n",
            "    valid_min: 0.0\n",
            "    valid_max: 12000.0\n",
            "unlimited dimensions: TIME\n",
            "current shape = (162364, 3)\n",
            "filling on\n",
            "<class 'netCDF4._netCDF4.Variable'>\n",
            "int8 PRES_QC(TIME, DEPTH)\n",
            "    long_name: quality flag\n",
            "    conventions: OceanSITES QC Flags\n",
            "    _FillValue: -128\n",
            "    flag_values: [0 1 2 3 4 5 6 7 8 9]\n",
            "    flag_meanings: no_qc_performed good_data probably_good_data bad_data_that_are_potentially_correctable bad_data value_changed not_used nominal_value interpolated_value missing_value\n",
            "unlimited dimensions: TIME\n",
            "current shape = (162364, 3)\n",
            "filling on\n",
            "<class 'netCDF4._netCDF4.Variable'>\n",
            "float32 PSAL(TIME, DEPTH)\n",
            "    standard_name: sea_water_salinity\n",
            "    long_name: Practical salinity\n",
            "    units: psu\n",
            "    _FillValue: 99999.0\n",
            "    valid_min: 0.0\n",
            "    valid_max: 42.0\n",
            "unlimited dimensions: TIME\n",
            "current shape = (162364, 3)\n",
            "filling on\n",
            "<class 'netCDF4._netCDF4.Variable'>\n",
            "int8 PSAL_QC(TIME, DEPTH)\n",
            "    long_name: quality flag\n",
            "    conventions: OceanSITES QC Flags\n",
            "    _FillValue: -128\n",
            "    flag_values: [0 1 2 3 4 5 6 7 8 9]\n",
            "    flag_meanings: no_qc_performed good_data probably_good_data bad_data_that_are_potentially_correctable bad_data value_changed not_used nominal_value interpolated_value missing_value\n",
            "unlimited dimensions: TIME\n",
            "current shape = (162364, 3)\n",
            "filling on\n"
          ]
        }
      ]
    },
    {
      "cell_type": "markdown",
      "source": [
        "We can access to a specific variable using:"
      ],
      "metadata": {
        "id": "UN_Do5z8yzuG"
      }
    },
    {
      "cell_type": "code",
      "source": [
        "print(ds['TIME'])"
      ],
      "metadata": {
        "colab": {
          "base_uri": "https://localhost:8080/"
        },
        "id": "E918fi7Nx_My",
        "outputId": "4ff8f9a1-a6f4-4f1c-a3b1-84e023669b1d"
      },
      "execution_count": 10,
      "outputs": [
        {
          "output_type": "stream",
          "name": "stdout",
          "text": [
            "<class 'netCDF4._netCDF4.Variable'>\n",
            "float64 TIME(TIME)\n",
            "    standard_name: time\n",
            "    long_name: time of measurement\n",
            "    units: days since 1950-01-01T00:00:00Z\n",
            "    valid_min: 0.0\n",
            "    valid_max: 90000.0\n",
            "    axis: T\n",
            "unlimited dimensions: TIME\n",
            "current shape = (162364,)\n",
            "filling on, default _FillValue of 9.969209968386869e+36 used\n"
          ]
        }
      ]
    },
    {
      "cell_type": "markdown",
      "source": [
        "# Data Values Access"
      ],
      "metadata": {
        "id": "15eQ26s70yUI"
      }
    },
    {
      "cell_type": "markdown",
      "source": [
        "To Access the 'TIME' variableby we use an array indexing, and as a result we have a numpy array"
      ],
      "metadata": {
        "id": "56M5cE4yik1S"
      }
    },
    {
      "cell_type": "code",
      "source": [
        "time=ds['TIME'][:]\n",
        "print(time)"
      ],
      "metadata": {
        "colab": {
          "base_uri": "https://localhost:8080/"
        },
        "id": "WynPtQO702Z-",
        "outputId": "f132ec8a-b11f-468d-d8da-43c6022ce4c3"
      },
      "execution_count": 12,
      "outputs": [
        {
          "output_type": "stream",
          "name": "stdout",
          "text": [
            "[23397.57775463 23397.58100694 23397.58424769 ... 23640.27253472\n",
            " 23640.27532407 23640.27810185]\n"
          ]
        }
      ]
    }
  ]
}